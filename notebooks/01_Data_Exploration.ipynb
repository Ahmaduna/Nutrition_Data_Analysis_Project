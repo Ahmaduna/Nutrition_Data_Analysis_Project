# Importation des bibliothèques nécessaires
import pandas as pd
import missingno as msno
import matplotlib.pyplot as plt

# Chargement des données
df = pd.read_excel('../data/raw_data/USDA_National_Nutrient_DataBase.xlsx')

# Affichage des premières lignes
df.head()

# Analyse de la dimension de la base de données
print(df.shape)

# Analyse de l'ensemble des variables de la base de données
df.info()

# Visualisation des valeurs manquantes
msno.bar(df)
plt.show()

